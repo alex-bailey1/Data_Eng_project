{
 "cells": [
  {
   "cell_type": "code",
   "execution_count": 1,
   "metadata": {},
   "outputs": [],
   "source": [
    "import pandas as pd\n",
    "import numpy as np\n",
    "import matplotlib.pyplot as plt\n",
    "import seaborn as sns\n",
    "import math\n",
    "import datetime\n",
    "%matplotlib inline"
   ]
  },
  {
   "cell_type": "code",
   "execution_count": 2,
   "metadata": {},
   "outputs": [
    {
     "data": {
      "text/html": [
       "<div>\n",
       "<style scoped>\n",
       "    .dataframe tbody tr th:only-of-type {\n",
       "        vertical-align: middle;\n",
       "    }\n",
       "\n",
       "    .dataframe tbody tr th {\n",
       "        vertical-align: top;\n",
       "    }\n",
       "\n",
       "    .dataframe thead th {\n",
       "        text-align: right;\n",
       "    }\n",
       "</style>\n",
       "<table border=\"1\" class=\"dataframe\">\n",
       "  <thead>\n",
       "    <tr style=\"text-align: right;\">\n",
       "      <th></th>\n",
       "      <th>EVENT_NO_TRIP</th>\n",
       "      <th>EVENT_NO_STOP</th>\n",
       "      <th>OPD_DATE</th>\n",
       "      <th>VEHICLE_ID</th>\n",
       "      <th>METERS</th>\n",
       "      <th>ACT_TIME</th>\n",
       "      <th>VELOCITY</th>\n",
       "      <th>DIRECTION</th>\n",
       "      <th>RADIO_QUALITY</th>\n",
       "      <th>GPS_LONGITUDE</th>\n",
       "      <th>GPS_LATITUDE</th>\n",
       "      <th>GPS_SATELLITES</th>\n",
       "      <th>GPS_HDOP</th>\n",
       "      <th>SCHEDULE_DEVIATION</th>\n",
       "    </tr>\n",
       "  </thead>\n",
       "  <tbody>\n",
       "    <tr>\n",
       "      <th>0</th>\n",
       "      <td>167775241</td>\n",
       "      <td>167775251</td>\n",
       "      <td>13-SEP-20</td>\n",
       "      <td>2284</td>\n",
       "      <td>13</td>\n",
       "      <td>28144</td>\n",
       "      <td></td>\n",
       "      <td></td>\n",
       "      <td></td>\n",
       "      <td>-122.6023</td>\n",
       "      <td>45.638787</td>\n",
       "      <td>8</td>\n",
       "      <td>1.0</td>\n",
       "      <td></td>\n",
       "    </tr>\n",
       "    <tr>\n",
       "      <th>1</th>\n",
       "      <td>167775241</td>\n",
       "      <td>167775251</td>\n",
       "      <td>13-SEP-20</td>\n",
       "      <td>2284</td>\n",
       "      <td>20</td>\n",
       "      <td>28149</td>\n",
       "      <td>1</td>\n",
       "      <td>181</td>\n",
       "      <td></td>\n",
       "      <td>-122.602302</td>\n",
       "      <td>45.638727</td>\n",
       "      <td>8</td>\n",
       "      <td>1.0</td>\n",
       "      <td></td>\n",
       "    </tr>\n",
       "    <tr>\n",
       "      <th>2</th>\n",
       "      <td>167775241</td>\n",
       "      <td>167775251</td>\n",
       "      <td>13-SEP-20</td>\n",
       "      <td>2284</td>\n",
       "      <td>28</td>\n",
       "      <td>28154</td>\n",
       "      <td>1</td>\n",
       "      <td>218</td>\n",
       "      <td></td>\n",
       "      <td>-122.602368</td>\n",
       "      <td>45.638667</td>\n",
       "      <td>8</td>\n",
       "      <td>1.0</td>\n",
       "      <td></td>\n",
       "    </tr>\n",
       "    <tr>\n",
       "      <th>3</th>\n",
       "      <td>167775241</td>\n",
       "      <td>167775251</td>\n",
       "      <td>13-SEP-20</td>\n",
       "      <td>2284</td>\n",
       "      <td>38</td>\n",
       "      <td>28159</td>\n",
       "      <td>2</td>\n",
       "      <td>274</td>\n",
       "      <td></td>\n",
       "      <td>-122.602495</td>\n",
       "      <td>45.638673</td>\n",
       "      <td>8</td>\n",
       "      <td>1.0</td>\n",
       "      <td></td>\n",
       "    </tr>\n",
       "    <tr>\n",
       "      <th>4</th>\n",
       "      <td>167775241</td>\n",
       "      <td>167775251</td>\n",
       "      <td>13-SEP-20</td>\n",
       "      <td>2284</td>\n",
       "      <td>48</td>\n",
       "      <td>28164</td>\n",
       "      <td>2</td>\n",
       "      <td>285</td>\n",
       "      <td></td>\n",
       "      <td>-122.602622</td>\n",
       "      <td>45.638697</td>\n",
       "      <td>8</td>\n",
       "      <td>1.2</td>\n",
       "      <td></td>\n",
       "    </tr>\n",
       "  </tbody>\n",
       "</table>\n",
       "</div>"
      ],
      "text/plain": [
       "   EVENT_NO_TRIP  EVENT_NO_STOP   OPD_DATE  VEHICLE_ID  METERS  ACT_TIME  \\\n",
       "0      167775241      167775251  13-SEP-20        2284      13     28144   \n",
       "1      167775241      167775251  13-SEP-20        2284      20     28149   \n",
       "2      167775241      167775251  13-SEP-20        2284      28     28154   \n",
       "3      167775241      167775251  13-SEP-20        2284      38     28159   \n",
       "4      167775241      167775251  13-SEP-20        2284      48     28164   \n",
       "\n",
       "  VELOCITY DIRECTION RADIO_QUALITY GPS_LONGITUDE GPS_LATITUDE  GPS_SATELLITES  \\\n",
       "0                                      -122.6023    45.638787               8   \n",
       "1        1       181                 -122.602302    45.638727               8   \n",
       "2        1       218                 -122.602368    45.638667               8   \n",
       "3        2       274                 -122.602495    45.638673               8   \n",
       "4        2       285                 -122.602622    45.638697               8   \n",
       "\n",
       "   GPS_HDOP SCHEDULE_DEVIATION  \n",
       "0       1.0                     \n",
       "1       1.0                     \n",
       "2       1.0                     \n",
       "3       1.0                     \n",
       "4       1.2                     "
      ]
     },
     "execution_count": 2,
     "metadata": {},
     "output_type": "execute_result"
    }
   ],
   "source": [
    "# change to different json files can get the information\n",
    "df = pd.read_json('2021_01_24.json')\n",
    "df.head()"
   ]
  },
  {
   "cell_type": "code",
   "execution_count": 3,
   "metadata": {},
   "outputs": [
    {
     "name": "stdout",
     "output_type": "stream",
     "text": [
      "The total row number:  130745\n",
      "The total act_time:  130745\n",
      "There are 695 unique for the EVENT_NO_TRIP attribute\n",
      "There are 51442 unique for the ACT_TIME attribute\n"
     ]
    }
   ],
   "source": [
    "# Every EVENT_NO_TRIP, ACT_TIME combo should be unique\n",
    "\n",
    "event_no_trip = df['EVENT_NO_TRIP']\n",
    "act_time = df['ACT_TIME']\n",
    "\n",
    "event_no_trip_set = set()\n",
    "act_time_set = set()\n",
    "\n",
    "print('The total row number: ',len(event_no_trip))\n",
    "print('The total act_time: ',len(act_time))\n",
    "\n",
    "for i in range(len(event_no_trip)):\n",
    "    event_no_trip_set.add(event_no_trip[i])\n",
    "\n",
    "for i in range(len(act_time)):\n",
    "    act_time_set.add(act_time[i])\n",
    "\n",
    "event_no_trip_list = sorted(event_no_trip_set)\n",
    "print('There are {} unique for the EVENT_NO_TRIP attribute'.format(len(event_no_trip_list)))\n",
    "\n",
    "act_time_list = sorted(act_time_set)\n",
    "print('There are {} unique for the ACT_TIME attribute'.format(len(act_time_list)))"
   ]
  },
  {
   "cell_type": "code",
   "execution_count": 4,
   "metadata": {},
   "outputs": [
    {
     "name": "stdout",
     "output_type": "stream",
     "text": [
      "Every EVENT_NO_TRIP should be above 140000000. The assertion is CORRECT!\n"
     ]
    }
   ],
   "source": [
    "# Every EVNET_NO_TRIP should be above 140000000\n",
    "\n",
    "event_no_trip = df['EVENT_NO_TRIP']\n",
    "event_no_trip_set = set()\n",
    "event_no_trip_set_above_fourteen = set()\n",
    "\n",
    "# print('The total row number: ',len(event_no_trip))\n",
    "\n",
    "for i in range(len(event_no_trip)):\n",
    "    if event_no_trip[i] > 140000000:\n",
    "        event_no_trip_set_above_fourteen.add(event_no_trip[i])\n",
    "    event_no_trip_set.add(event_no_trip[i])\n",
    "\n",
    "event_no_trip_list = sorted(event_no_trip_set)\n",
    "# print('There are {} unique for the EVENT_NO_TRIP attribute'.format(len(event_no_trip_list)))\n",
    "\n",
    "event_no_trip_fourteen_list = sorted(event_no_trip_set_above_fourteen)\n",
    "# print(len(event_no_trip_fourteen_list))\n",
    "\n",
    "if len(event_no_trip_list) == len(event_no_trip_fourteen_list):\n",
    "    print('Every EVENT_NO_TRIP should be above 140000000. The assertion is CORRECT!')\n",
    "else:\n",
    "    print('Every EVENT_NO_TRIP should be above 140000000. The assertion is INCORRECT!')\n"
   ]
  },
  {
   "cell_type": "code",
   "execution_count": 5,
   "metadata": {},
   "outputs": [
    {
     "name": "stdout",
     "output_type": "stream",
     "text": [
      "ACT_TIME should be in the range 0-93600. The assertion is CORRECT!\n"
     ]
    }
   ],
   "source": [
    "# ACT_TIME should be in the range 0-93600 (0-26 hours)\n",
    "\n",
    "act_time = df['ACT_TIME']\n",
    "\n",
    "act_time_set = set()\n",
    "act_time_range_set = set()\n",
    "\n",
    "for i in range(len(act_time)):\n",
    "    if act_time[i] >=0 and act_time[i] <= 93600:\n",
    "        act_time_range_set.add(act_time[i])\n",
    "    act_time_set.add(act_time[i])\n",
    "\n",
    "act_time_list = sorted(act_time_set)\n",
    "\n",
    "act_time_range_list = sorted(act_time_range_set)\n",
    "\n",
    "if len(act_time_range_list) == len(act_time_list):\n",
    "    print('ACT_TIME should be in the range 0-93600. The assertion is CORRECT!')\n",
    "else:\n",
    "    print('ACT_TIME should be in the range 0-93600. The assertion is INCORRECT! ')"
   ]
  },
  {
   "cell_type": "code",
   "execution_count": 6,
   "metadata": {},
   "outputs": [
    {
     "name": "stdout",
     "output_type": "stream",
     "text": [
      "Every GPS_LATITUDE cannot exceed 47 and cannot be lower than 45. The assertion is CORRECT!\n"
     ]
    }
   ],
   "source": [
    "# Every GPS_LATITUDE cannot exceed 47 and cannot be lower than 45\n",
    "\n",
    "gps_latitude = df['GPS_LATITUDE']\n",
    "\n",
    "gps_latitude_set = set()\n",
    "\n",
    "for i in range(len(gps_latitude)):\n",
    "    if gps_latitude[i]:\n",
    "        gps_latitude_set.add(float(gps_latitude[i]))\n",
    "\n",
    "if min(gps_latitude_set) >= 45 and max(gps_latitude_set) <= 47:\n",
    "    print('Every GPS_LATITUDE cannot exceed 47 and cannot be lower than 45. The assertion is CORRECT!')\n",
    "else:\n",
    "    print('Every GPS_LATITUDE cannot exceed 47 and cannot be lower than 45. The assertin is INCOREECT!')"
   ]
  },
  {
   "cell_type": "code",
   "execution_count": 7,
   "metadata": {},
   "outputs": [
    {
     "name": "stdout",
     "output_type": "stream",
     "text": [
      "DIRECTION cannot be lower than 0 and higher than 360. The assertion is CORRECT!\n"
     ]
    }
   ],
   "source": [
    "# DIRECTION cannot be lower than 0 and higher than 360\n",
    "\n",
    "direction = df['DIRECTION']\n",
    "\n",
    "direction_set = set()\n",
    "direction_range_set = set()\n",
    "\n",
    "for i in range(len(direction)):\n",
    "    if direction[i] and int(direction[i]) >=0 and int(direction[i]) <= 360:\n",
    "            direction_range_set.add(int(direction[i]))\n",
    "    if direction[i]:\n",
    "        direction_set.add(int(direction[i]))\n",
    "\n",
    "if len(direction_set) == len(direction_range_set):\n",
    "    print('DIRECTION cannot be lower than 0 and higher than 360. The assertion is CORRECT!')\n",
    "else:\n",
    "    print('DIRECTION cannot be lower than 0 and higher than 360. The assertion is INCORRECT!')"
   ]
  },
  {
   "cell_type": "code",
   "execution_count": 8,
   "metadata": {},
   "outputs": [
    {
     "name": "stdout",
     "output_type": "stream",
     "text": [
      "If VELOCITY exists, it must be between 0 and 60. The assertion is CORRECT.\n"
     ]
    }
   ],
   "source": [
    "# If VELOCITY exists, it must be between 0 and 60\n",
    "\n",
    "velocity = df['VELOCITY']\n",
    "\n",
    "velocity_set = set()\n",
    "\n",
    "for i in range(len(velocity)):\n",
    "    if velocity[i]:\n",
    "        velocity_set.add(int(velocity[i]))\n",
    "\n",
    "if min(velocity_set) >= 0 and max(velocity_set) <= 60:\n",
    "    print('If VELOCITY exists, it must be between 0 and 60. The assertion is CORRECT.')\n",
    "else:\n",
    "    print('If VELOCITY exists, it must be between 0 and 60. The assertion is INCORRECT.')"
   ]
  },
  {
   "cell_type": "code",
   "execution_count": 9,
   "metadata": {},
   "outputs": [
    {
     "name": "stdout",
     "output_type": "stream",
     "text": [
      "GPS_HDOP should be between 0.5 and 5. The assertion is INCORRECT!\n"
     ]
    }
   ],
   "source": [
    "# GPS_HDOP should be between 0.5 and 5\n",
    "\n",
    "gps_hdop = df['GPS_HDOP']\n",
    "\n",
    "gps_hdop_set = set()\n",
    "\n",
    "for i in range(len(gps_hdop)):\n",
    "    if gps_hdop[i]:\n",
    "        gps_hdop_set.add(float(gps_hdop[i]))\n",
    "\n",
    "if min(gps_hdop_set) >= 0.5 and max(gps_hdop_set) <= 5:\n",
    "    print('GPS_HDOP should be between 0.5 and 5. The assertion is CORRECT!')\n",
    "else:\n",
    "    print('GPS_HDOP should be between 0.5 and 5. The assertion is INCORRECT!')"
   ]
  },
  {
   "cell_type": "code",
   "execution_count": 10,
   "metadata": {},
   "outputs": [
    {
     "name": "stdout",
     "output_type": "stream",
     "text": [
      "GPS_SATELLITES should be between 3 and 17. The assertion is CORRECT!\n"
     ]
    }
   ],
   "source": [
    "# GPS_SATELLITES should be between 3 and 17\n",
    "\n",
    "gps_satellites = df['GPS_SATELLITES']\n",
    "\n",
    "gps_satellites_set = set()\n",
    "\n",
    "for i in range(len(gps_satellites)):\n",
    "    if gps_satellites[i]:\n",
    "        gps_satellites_set.add(int(gps_satellites[i]))\n",
    "\n",
    "if min(gps_satellites_set) >= 3 and max(gps_satellites_set) <= 17:\n",
    "    print('GPS_SATELLITES should be between 3 and 17. The assertion is CORRECT!')\n",
    "else:\n",
    "    print('GPS_SATELLITES should be between 3 and 17. The assertion is INCORRECT!')"
   ]
  },
  {
   "cell_type": "code",
   "execution_count": 11,
   "metadata": {},
   "outputs": [
    {
     "name": "stdout",
     "output_type": "stream",
     "text": [
      "EVENT_NO_STOP should be above 140000000. The assertion is CORRECT!\n"
     ]
    }
   ],
   "source": [
    "# EVENT_NO_STOP should be above 140000000 \n",
    "\n",
    "event_no_stop = df['EVENT_NO_STOP']\n",
    "\n",
    "event_no_stop_set = set()\n",
    "\n",
    "for i in range(len(event_no_stop)):\n",
    "    if event_no_stop[i]:\n",
    "        event_no_stop_set.add(int(event_no_stop[i]))\n",
    "\n",
    "if min(event_no_stop_set) >= 140000000 :\n",
    "    print('EVENT_NO_STOP should be above 140000000. The assertion is CORRECT!')\n",
    "else:\n",
    "    print('EVENT_NO_STOP should be above 140000000. The assertion is INCORRECT!')"
   ]
  },
  {
   "cell_type": "code",
   "execution_count": 12,
   "metadata": {},
   "outputs": [
    {
     "name": "stdout",
     "output_type": "stream",
     "text": [
      "The minimum number is:  -674\n",
      "The maximum number is:  1278\n",
      "Schedule deviation should be in the range (-1000, 1000), if it isn’t empty. The assertion is INCORRECT!\n"
     ]
    }
   ],
   "source": [
    "# Schedule deviation should be in the range (-1000, 1000), if it isn’t empty\n",
    "\n",
    "schedule_deviation = df['SCHEDULE_DEVIATION']\n",
    "\n",
    "schedule_deviation_set = set()\n",
    "\n",
    "for i in range(len(schedule_deviation)):\n",
    "    if schedule_deviation[i]:\n",
    "        schedule_deviation_set.add(int(schedule_deviation[i]))\n",
    "\n",
    "print('The minimum number is: ',min(schedule_deviation_set))\n",
    "print('The maximum number is: ',max(schedule_deviation_set))\n",
    "\n",
    "if min(schedule_deviation_set)>-1000 and max(schedule_deviation_set)<1000:\n",
    "    print('Schedule deviation should be in the range (-1000, 1000), if it isn’t empty. The assertion is CORRECT!')\n",
    "else:\n",
    "    print('Schedule deviation should be in the range (-1000, 1000), if it isn’t empty. The assertion is INCORRECT!')"
   ]
  },
  {
   "cell_type": "code",
   "execution_count": null,
   "metadata": {},
   "outputs": [],
   "source": []
  }
 ],
 "metadata": {
  "environment": {
   "name": "tf2-2-2-cpu.2-2.m50",
   "type": "gcloud",
   "uri": "gcr.io/deeplearning-platform-release/tf2-2-2-cpu.2-2:m50"
  },
  "kernelspec": {
   "display_name": "Python 3",
   "language": "python",
   "name": "python3"
  },
  "language_info": {
   "codemirror_mode": {
    "name": "ipython",
    "version": 3
   },
   "file_extension": ".py",
   "mimetype": "text/x-python",
   "name": "python",
   "nbconvert_exporter": "python",
   "pygments_lexer": "ipython3",
   "version": "3.7.6"
  }
 },
 "nbformat": 4,
 "nbformat_minor": 4
}
